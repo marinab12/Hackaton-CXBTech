{
 "cells": [
  {
   "cell_type": "markdown",
   "id": "0d924917",
   "metadata": {},
   "source": [
    "**Random Forest** algorithm has been chosen to solve this classification problem:"
   ]
  },
  {
   "cell_type": "code",
   "execution_count": 1,
   "id": "0a9714e9",
   "metadata": {},
   "outputs": [],
   "source": [
    "# Libraries\n",
    "#-- data treatment\n",
    "import pandas as pd\n",
    "\n",
    "#-- Random Forest classifier  (sklearn)\n",
    "from sklearn.ensemble import RandomForestClassifier\n",
    "\n",
    "#-- model goodness\n",
    "from sklearn.metrics import confusion_matrix\n"
   ]
  },
  {
   "cell_type": "code",
   "execution_count": 2,
   "id": "bd7c9f57",
   "metadata": {},
   "outputs": [
    {
     "data": {
      "text/html": [
       "<div>\n",
       "<style scoped>\n",
       "    .dataframe tbody tr th:only-of-type {\n",
       "        vertical-align: middle;\n",
       "    }\n",
       "\n",
       "    .dataframe tbody tr th {\n",
       "        vertical-align: top;\n",
       "    }\n",
       "\n",
       "    .dataframe thead th {\n",
       "        text-align: right;\n",
       "    }\n",
       "</style>\n",
       "<table border=\"1\" class=\"dataframe\">\n",
       "  <thead>\n",
       "    <tr style=\"text-align: right;\">\n",
       "      <th></th>\n",
       "      <th>sensor_1</th>\n",
       "      <th>sensor_2</th>\n",
       "      <th>sensor_3</th>\n",
       "      <th>sensor_4</th>\n",
       "      <th>sensor_5</th>\n",
       "      <th>sensor_6</th>\n",
       "      <th>target</th>\n",
       "    </tr>\n",
       "  </thead>\n",
       "  <tbody>\n",
       "    <tr>\n",
       "      <th>0</th>\n",
       "      <td>0.474335</td>\n",
       "      <td>0.881640</td>\n",
       "      <td>-2.050543</td>\n",
       "      <td>-1.251935</td>\n",
       "      <td>-1.035151</td>\n",
       "      <td>-1.934367</td>\n",
       "      <td>4</td>\n",
       "    </tr>\n",
       "    <tr>\n",
       "      <th>1</th>\n",
       "      <td>-1.034675</td>\n",
       "      <td>1.741801</td>\n",
       "      <td>-1.660629</td>\n",
       "      <td>-1.555989</td>\n",
       "      <td>-0.337553</td>\n",
       "      <td>-2.473838</td>\n",
       "      <td>0</td>\n",
       "    </tr>\n",
       "    <tr>\n",
       "      <th>2</th>\n",
       "      <td>-0.563221</td>\n",
       "      <td>-0.688381</td>\n",
       "      <td>-0.318415</td>\n",
       "      <td>-1.845172</td>\n",
       "      <td>0.352366</td>\n",
       "      <td>-0.912928</td>\n",
       "      <td>1</td>\n",
       "    </tr>\n",
       "    <tr>\n",
       "      <th>3</th>\n",
       "      <td>-1.268179</td>\n",
       "      <td>2.770688</td>\n",
       "      <td>1.054193</td>\n",
       "      <td>2.830389</td>\n",
       "      <td>0.395093</td>\n",
       "      <td>0.677715</td>\n",
       "      <td>3</td>\n",
       "    </tr>\n",
       "    <tr>\n",
       "      <th>4</th>\n",
       "      <td>-1.216380</td>\n",
       "      <td>-0.391267</td>\n",
       "      <td>-2.898931</td>\n",
       "      <td>-0.913074</td>\n",
       "      <td>-2.171857</td>\n",
       "      <td>-2.367490</td>\n",
       "      <td>0</td>\n",
       "    </tr>\n",
       "    <tr>\n",
       "      <th>...</th>\n",
       "      <td>...</td>\n",
       "      <td>...</td>\n",
       "      <td>...</td>\n",
       "      <td>...</td>\n",
       "      <td>...</td>\n",
       "      <td>...</td>\n",
       "      <td>...</td>\n",
       "    </tr>\n",
       "    <tr>\n",
       "      <th>2095</th>\n",
       "      <td>-0.947002</td>\n",
       "      <td>0.174969</td>\n",
       "      <td>-0.180249</td>\n",
       "      <td>0.118236</td>\n",
       "      <td>-0.143420</td>\n",
       "      <td>-0.359509</td>\n",
       "      <td>0</td>\n",
       "    </tr>\n",
       "    <tr>\n",
       "      <th>2096</th>\n",
       "      <td>-1.224148</td>\n",
       "      <td>0.029956</td>\n",
       "      <td>0.536684</td>\n",
       "      <td>0.888406</td>\n",
       "      <td>0.119460</td>\n",
       "      <td>0.378946</td>\n",
       "      <td>1</td>\n",
       "    </tr>\n",
       "    <tr>\n",
       "      <th>2097</th>\n",
       "      <td>-0.847593</td>\n",
       "      <td>1.538574</td>\n",
       "      <td>0.962409</td>\n",
       "      <td>1.966467</td>\n",
       "      <td>0.379934</td>\n",
       "      <td>0.737907</td>\n",
       "      <td>3</td>\n",
       "    </tr>\n",
       "    <tr>\n",
       "      <th>2098</th>\n",
       "      <td>1.472437</td>\n",
       "      <td>1.187695</td>\n",
       "      <td>1.015766</td>\n",
       "      <td>-1.103522</td>\n",
       "      <td>1.586722</td>\n",
       "      <td>0.182569</td>\n",
       "      <td>4</td>\n",
       "    </tr>\n",
       "    <tr>\n",
       "      <th>2099</th>\n",
       "      <td>-0.083489</td>\n",
       "      <td>-1.194784</td>\n",
       "      <td>-0.389204</td>\n",
       "      <td>-2.369081</td>\n",
       "      <td>0.382413</td>\n",
       "      <td>-0.900237</td>\n",
       "      <td>3</td>\n",
       "    </tr>\n",
       "  </tbody>\n",
       "</table>\n",
       "<p>2100 rows × 7 columns</p>\n",
       "</div>"
      ],
      "text/plain": [
       "      sensor_1  sensor_2  sensor_3  sensor_4  sensor_5  sensor_6  target\n",
       "0     0.474335  0.881640 -2.050543 -1.251935 -1.035151 -1.934367       4\n",
       "1    -1.034675  1.741801 -1.660629 -1.555989 -0.337553 -2.473838       0\n",
       "2    -0.563221 -0.688381 -0.318415 -1.845172  0.352366 -0.912928       1\n",
       "3    -1.268179  2.770688  1.054193  2.830389  0.395093  0.677715       3\n",
       "4    -1.216380 -0.391267 -2.898931 -0.913074 -2.171857 -2.367490       0\n",
       "...        ...       ...       ...       ...       ...       ...     ...\n",
       "2095 -0.947002  0.174969 -0.180249  0.118236 -0.143420 -0.359509       0\n",
       "2096 -1.224148  0.029956  0.536684  0.888406  0.119460  0.378946       1\n",
       "2097 -0.847593  1.538574  0.962409  1.966467  0.379934  0.737907       3\n",
       "2098  1.472437  1.187695  1.015766 -1.103522  1.586722  0.182569       4\n",
       "2099 -0.083489 -1.194784 -0.389204 -2.369081  0.382413 -0.900237       3\n",
       "\n",
       "[2100 rows x 7 columns]"
      ]
     },
     "execution_count": 2,
     "metadata": {},
     "output_type": "execute_result"
    }
   ],
   "source": [
    "# Import train data\n",
    "data = pd.read_csv('space_X_train.csv',index_col = [0])\n",
    "data"
   ]
  },
  {
   "cell_type": "code",
   "execution_count": 3,
   "id": "c9b2c306",
   "metadata": {},
   "outputs": [
    {
     "data": {
      "text/plain": [
       "False"
      ]
     },
     "execution_count": 3,
     "metadata": {},
     "output_type": "execute_result"
    }
   ],
   "source": [
    "# check if there is null values in any column\n",
    "data.isna().values.any()"
   ]
  },
  {
   "cell_type": "code",
   "execution_count": 4,
   "id": "3d84b58d",
   "metadata": {},
   "outputs": [
    {
     "data": {
      "text/plain": [
       "0    0.203333\n",
       "3    0.202857\n",
       "1    0.201429\n",
       "2    0.199524\n",
       "4    0.192857\n",
       "Name: target, dtype: float64"
      ]
     },
     "execution_count": 4,
     "metadata": {},
     "output_type": "execute_result"
    }
   ],
   "source": [
    "# check if class is balanced\n",
    "data['target'].value_counts()/len(data)"
   ]
  },
  {
   "cell_type": "markdown",
   "id": "adcac38d",
   "metadata": {},
   "source": [
    "There are not null values and classes are balanced (equally represented). Great!<br>"
   ]
  },
  {
   "cell_type": "code",
   "execution_count": 5,
   "id": "de3493a1",
   "metadata": {},
   "outputs": [],
   "source": [
    "# separate data in X and y\n",
    "X = data[[\"sensor_1\",\"sensor_2\",\"sensor_3\",\"sensor_4\",\"sensor_5\",\"sensor_6\"]].values\n",
    "y = data[\"target\"].values"
   ]
  },
  {
   "cell_type": "markdown",
   "id": "99a0260d",
   "metadata": {},
   "source": [
    "### RF Algorithm"
   ]
  },
  {
   "cell_type": "markdown",
   "id": "4e9c31d0",
   "metadata": {},
   "source": [
    "Hiperparameters: number of trees (n_estimators) and max_features (usually square root or log2 of number of features are good estimations)"
   ]
  },
  {
   "cell_type": "code",
   "execution_count": 6,
   "id": "e1407eb1",
   "metadata": {},
   "outputs": [
    {
     "name": "stdout",
     "output_type": "stream",
     "text": [
      "0.7786\n"
     ]
    }
   ],
   "source": [
    "rf = RandomForestClassifier(criterion='gini', \n",
    "                            # different n_estimators have been tested\n",
    "                             n_estimators=100,\n",
    "                             min_samples_split=10,\n",
    "                             min_samples_leaf=1,\n",
    "                             max_features='log2',\n",
    "                             oob_score=True,\n",
    "                             random_state=1,\n",
    "                             n_jobs=-1)\n",
    "rf.fit(X, y)\n",
    "'''oob_score, default=False\n",
    "   whether to use out-of-bag samples to estimate how well the odel generalizes'''\n",
    "print(\"%.4f\" % rf.oob_score_)"
   ]
  },
  {
   "cell_type": "code",
   "execution_count": 7,
   "id": "d1849042",
   "metadata": {},
   "outputs": [
    {
     "name": "stdout",
     "output_type": "stream",
     "text": [
      "Accuracy: 0.9304761904761905\n"
     ]
    }
   ],
   "source": [
    "resultados = pd.DataFrame(columns = [\"real\", \"pred\"])\n",
    "resultados[\"real\"] = data[\"target\"]\n",
    "resultados[\"pred\"] = rf.predict(X)\n",
    "print(f'Accuracy: {len(resultados[resultados[\"real\"] == resultados[\"pred\"]])/len(resultados)}')"
   ]
  },
  {
   "cell_type": "code",
   "execution_count": 8,
   "id": "da1370bf",
   "metadata": {},
   "outputs": [
    {
     "data": {
      "text/plain": [
       "array([[400,  10,   9,   6,   2],\n",
       "       [  2, 400,  11,  10,   0],\n",
       "       [  5,  10, 383,   7,  14],\n",
       "       [  4,  11,   9, 388,  14],\n",
       "       [  6,   1,   7,   8, 383]])"
      ]
     },
     "execution_count": 8,
     "metadata": {},
     "output_type": "execute_result"
    }
   ],
   "source": [
    "confusion_matrix(data[\"target\"], resultados[\"pred\"])"
   ]
  },
  {
   "cell_type": "code",
   "execution_count": 9,
   "id": "dc5056c5",
   "metadata": {},
   "outputs": [],
   "source": [
    "# Import test data to predict\n",
    "test = pd.read_csv('space_X_test.csv',index_col = [0])\n",
    "X_test = test.values"
   ]
  },
  {
   "cell_type": "code",
   "execution_count": 10,
   "id": "bfc26c2a",
   "metadata": {},
   "outputs": [],
   "source": [
    "# import test data and make predictions\n",
    "predictions = pd.DataFrame(columns = [\"final_status\"])\n",
    "predictions[\"final_status\"] = rf.predict(X_test)"
   ]
  },
  {
   "cell_type": "code",
   "execution_count": 11,
   "id": "166a8cbf",
   "metadata": {},
   "outputs": [],
   "source": [
    "predictions.to_csv(\"predictions.csv\", index = False)"
   ]
  }
 ],
 "metadata": {
  "kernelspec": {
   "display_name": "Python 3 (ipykernel)",
   "language": "python",
   "name": "python3"
  },
  "language_info": {
   "codemirror_mode": {
    "name": "ipython",
    "version": 3
   },
   "file_extension": ".py",
   "mimetype": "text/x-python",
   "name": "python",
   "nbconvert_exporter": "python",
   "pygments_lexer": "ipython3",
   "version": "3.9.5"
  }
 },
 "nbformat": 4,
 "nbformat_minor": 5
}
